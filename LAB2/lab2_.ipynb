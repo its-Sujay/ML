{
 "cells": [
  {
   "cell_type": "code",
   "execution_count": 15,
   "metadata": {},
   "outputs": [
    {
     "name": "stdout",
     "output_type": "stream",
     "text": [
      "The Euclidean distance of the above given vectors is: 5.196152422706632\n",
      "The Manhattan distance of the above given vectors is: 9.0\n"
     ]
    }
   ],
   "source": [
    "import math\n",
    "\n",
    "def euclidean_distance(vec1, vec2):\n",
    "    if len(vec1) != len(vec2):\n",
    "        print(\"The dimensions of the given vectors are not equal\")\n",
    "    else:\n",
    "        dist = sum((elem1 - elem2) ** 2 for elem1, elem2 in zip(vec1, vec2))\n",
    "        return math.sqrt(dist)\n",
    "\n",
    "def manhattan_distance(vec1, vec2):\n",
    "    if len(vec1) != len(vec2):\n",
    "        print(\"The dimensions of the given vectors are not equal\")\n",
    "    else:\n",
    "        dist = sum(abs(elem1 - elem2) for elem1, elem2 in zip(vec1, vec2))\n",
    "        return dist\n",
    "\n",
    "n1 = int(input(\"Enter the dimension of the first vector: \"))\n",
    "vector1 = []\n",
    "for i in range(n1):\n",
    "    elem = float(input(f\"Enter the {i}th element: \"))\n",
    "    vector1.append(elem)\n",
    "\n",
    "n2 = int(input(\"Enter the dimension of the second vector: \"))\n",
    "vector2 = []\n",
    "for i in range(n2):\n",
    "    elem = float(input(f\"Enter the {i}th element: \"))\n",
    "    vector2.append(elem)\n",
    "\n",
    "euclidean_dist = euclidean_distance(vector1, vector2)\n",
    "manhattan_dist = manhattan_distance(vector1, vector2)\n",
    "print(\"The Euclidean distance of the above given vectors is:\", euclidean_dist)\n",
    "print(\"The Manhattan distance of the above given vectors is:\", manhattan_dist)\n"
   ]
  },
  {
   "cell_type": "code",
   "execution_count": 16,
   "metadata": {},
   "outputs": [
    {
     "name": "stdout",
     "output_type": "stream",
     "text": [
      "Predictions: ['A', 'B']\n"
     ]
    }
   ],
   "source": [
    "import numpy as np\n",
    "\n",
    "def euclidean_distance(point1, point2):\n",
    "    return np.sqrt(np.sum((point1 - point2) ** 2))\n",
    "\n",
    "def knn_classifier(X_train, y_train, X_test, k):\n",
    "    predictions = []\n",
    "    for test_point in X_test:\n",
    "        distances = [(euclidean_distance(train_point, test_point), label) for train_point, label in zip(X_train, y_train)]\n",
    "        distances.sort()  \n",
    "        neighbors = distances[:k] \n",
    "        \n",
    "        \n",
    "        class_votes = {}\n",
    "        for _, label in neighbors:\n",
    "            if label in class_votes:\n",
    "                class_votes[label] += 1\n",
    "            else:\n",
    "                class_votes[label] = 1\n",
    "        \n",
    "        \n",
    "        predicted_label = max(class_votes, key=class_votes.get)\n",
    "        predictions.append(predicted_label)\n",
    "    \n",
    "    return predictions\n",
    "\n",
    "# Example usage:\n",
    "X_train = np.array([[1, 2], [2, 3], [3, 4], [4, 5]])\n",
    "y_train = np.array(['A', 'A', 'B', 'B'])\n",
    "X_test = np.array([[1.5, 2.5], [3.5, 4.5]])\n",
    "k = 2\n",
    "\n",
    "predictions = knn_classifier(X_train, y_train, X_test, k)\n",
    "print(\"Predictions:\", predictions)\n"
   ]
  },
  {
   "cell_type": "code",
   "execution_count": 20,
   "metadata": {},
   "outputs": [
    {
     "name": "stdout",
     "output_type": "stream",
     "text": [
      "['bmw', 'benz', 'toyota', 'bmw', 'honda']\n",
      "Encoded car models: [0, 1, 2, 0, 3]\n"
     ]
    }
   ],
   "source": [
    "def label_encode_categorical(data):\n",
    "    unique_labels = {} \n",
    "    encoded_data = []   \n",
    "    code = 0\n",
    "    \n",
    "    for item in data:\n",
    "        if item not in unique_labels:  \n",
    "            unique_labels[item] = code  \n",
    "            code += 1 \n",
    "        \n",
    "        \n",
    "        encoded_data.append(unique_labels[item])\n",
    "    \n",
    "    return encoded_data\n",
    "\n",
    "n2=int(input(\"Enter the no of car models u want to add \"))\n",
    "car_model=[]\n",
    "for i in range(n2):\n",
    "    model=input(\"Enter the car model\")\n",
    "    car_model.append(model)\n",
    "print(car_model)\n",
    "encoded_car_models = label_encode_categorical(car_model)\n",
    "print(\"Encoded car models:\", encoded_car_models)\n"
   ]
  },
  {
   "cell_type": "code",
   "execution_count": 21,
   "metadata": {},
   "outputs": [
    {
     "name": "stdout",
     "output_type": "stream",
     "text": [
      "One-Hot encoded data:\n",
      "[1]\n",
      "[0, 1]\n",
      "[0, 0, 1]\n",
      "[1, 0, 0]\n",
      "[0, 0, 1]\n"
     ]
    }
   ],
   "source": [
    "def one_hot_encode_categorical(data):\n",
    "    unique_labels = {}  \n",
    "    encoded_data = []   \n",
    "    \n",
    "    for item in data:\n",
    "        if item not in unique_labels:\n",
    "            unique_labels[item] = len(unique_labels) \n",
    "        \n",
    "        \n",
    "        one_hot_encoded = [0] * len(unique_labels)\n",
    "        one_hot_encoded[unique_labels[item]] = 1\n",
    "        \n",
    "        \n",
    "        encoded_data.append(one_hot_encoded)\n",
    "    \n",
    "    return encoded_data\n",
    "\n",
    "# Example usage:\n",
    "categorical_data = ['red', 'blue', 'green', 'red', 'green']\n",
    "\n",
    "encoded_data = one_hot_encode_categorical(categorical_data)\n",
    "print(\"One-Hot encoded data:\")\n",
    "for item in encoded_data:\n",
    "    print(item)\n"
   ]
  }
 ],
 "metadata": {
  "kernelspec": {
   "display_name": "Python 3",
   "language": "python",
   "name": "python3"
  },
  "language_info": {
   "codemirror_mode": {
    "name": "ipython",
    "version": 3
   },
   "file_extension": ".py",
   "mimetype": "text/x-python",
   "name": "python",
   "nbconvert_exporter": "python",
   "pygments_lexer": "ipython3",
   "version": "3.12.1"
  }
 },
 "nbformat": 4,
 "nbformat_minor": 2
}
